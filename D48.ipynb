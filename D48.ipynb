{
 "cells": [
  {
   "cell_type": "code",
   "execution_count": null,
   "metadata": {},
   "outputs": [],
   "source": [
    "\n",
    "範例 : (Kaggle)房價預測\n",
    "\n",
    "    分數以網站評分結果為準, 請同學實際將提交檔(*.csv)上傳試試看\n",
    "    https://www.kaggle.com/c/house-prices-advanced-regression-techniques/submit\n",
    "\n",
    "[教學目標]\n",
    "\n",
    "    以下用房價預測資料, 觀查混合泛化 (Blending) 的寫法與效果\n",
    "\n",
    "[範例重點]\n",
    "\n",
    "    觀察混合泛化的準確度 (In[12]), 是否比單一模型準確度為高 (In[9~11])\n",
    "    除了我們的權重, 同學也可以試著自行調整權重 (注意:權重和=1), 看看有什麼影響\n",
    "\n"
   ]
  },
  {
   "cell_type": "code",
   "execution_count": null,
   "metadata": {},
   "outputs": [],
   "source": [
    "# 做完特徵工程前的所有準備\n",
    "import pandas as pd\n",
    "import numpy as np\n",
    "import copy, time\n",
    "from IPython.display import display\n",
    "from sklearn.preprocessing import MinMaxScaler\n",
    "from sklearn.model_selection import cross_val_score\n",
    "from sklearn.linear_model import LinearRegression\n",
    "from sklearn.ensemble import GradientBoostingRegressor\n",
    "from sklearn.preprocessing import LabelEncoder\n",
    "\n",
    "data_path = '../csv/'\n",
    "df_train = pd.read_csv(data_path + 'house_train.csv.gz')\n",
    "df_test = pd.read_csv(data_path + 'house_test.csv.gz')\n",
    "\n",
    "train_Y = np.log1p(df_train['SalePrice'])\n",
    "ids = df_test['Id']\n",
    "df_train = df_train.drop(['Id', 'SalePrice'] , axis=1)\n",
    "df_test = df_test.drop(['Id'] , axis=1)\n",
    "df = pd.concat([df_train, df_test])\n",
    "df.head()"
   ]
  },
  {
   "cell_type": "code",
   "execution_count": null,
   "metadata": {},
   "outputs": [],
   "source": [
    "# 檢查 DataFrame 空缺值的狀態\n",
    "def na_check(df_data):\n",
    "    data_na = (df_data.isnull().sum() / len(df_data)) * 100\n",
    "    data_na = data_na.drop(data_na[data_na == 0].index).sort_values(ascending=False)\n",
    "    missing_data = pd.DataFrame({'Missing Ratio' :data_na})\n",
    "    display(missing_data.head(10))\n",
    "na_check(df)"
   ]
  },
  {
   "cell_type": "code",
   "execution_count": null,
   "metadata": {},
   "outputs": [],
   "source": [
    "# 以下 In[3]~In[7] 只是摘錄房產預測中的一組特徵工程, 並以此組特徵工程跑參數, 若更換其他特徵工程, In[8]的參數需要重新跑\n",
    "# 部分欄位缺值補 'None'\n",
    "none_cols = ['PoolQC', 'MiscFeature', 'Alley', 'Fence', 'FireplaceQu', 'FireplaceQu', 'FireplaceQu', 'FireplaceQu', \n",
    "            'GarageType', 'GarageFinish', 'GarageQual', 'GarageCond', 'BsmtQual', 'BsmtCond', 'BsmtExposure', \n",
    "             'BsmtFinType1', 'BsmtFinType2', 'MasVnrType', 'Functional', 'MSSubClass']\n",
    "for col in none_cols:\n",
    "    df[col] = df[col].fillna(\"None\")\n",
    "    \n",
    "# 部分欄位缺值填補 0\n",
    "zero_cols = ['GarageYrBlt', 'GarageArea', 'GarageCars', 'BsmtFinSF1', 'BsmtFinSF2', 'BsmtUnfSF','TotalBsmtSF', \n",
    "             'BsmtFullBath', 'BsmtHalfBath', 'MasVnrArea']\n",
    "for col in zero_cols:\n",
    "    df[col] = df[col].fillna(0)"
   ]
  },
  {
   "cell_type": "code",
   "execution_count": null,
   "metadata": {},
   "outputs": [],
   "source": [
    "# 部分欄位缺值補眾數\n",
    "mode_cols = ['MSZoning', 'Electrical', 'KitchenQual', 'Exterior1st', 'Exterior2nd', 'SaleType']\n",
    "for col in mode_cols:\n",
    "    df[col] = df[col].fillna(df[col].mode()[0])\n",
    "    \n",
    "# 'LotFrontage' 有空缺時, 以同一區 (Neighborhood) 的 LotFrontage 中位數填補 (可以視為填補一種群聚編碼 )\n",
    "df[\"LotFrontage\"] = df.groupby(\"Neighborhood\")[\"LotFrontage\"].transform(lambda x: x.fillna(x.median()))\n",
    "\n",
    "# Utilities 參考資訊很少, 所以直接捨棄\n",
    "df = df.drop(['Utilities'], axis=1)"
   ]
  },
  {
   "cell_type": "code",
   "execution_count": null,
   "metadata": {},
   "outputs": [],
   "source": [
    "# 做完各種補缺值, 確認一下有沒有遺漏\n",
    "na_check(df)\n"
   ]
  },
  {
   "cell_type": "code",
   "execution_count": null,
   "metadata": {},
   "outputs": [],
   "source": [
    "# 四個數值欄位, 因為相異值有限, 轉成文字\n",
    "label_cols = ['MSSubClass', 'OverallCond', 'YrSold', 'MoSold']\n",
    "for col in mode_cols:\n",
    "    df[col] = df[col].astype(str)\n",
    "    \n",
    "# 相異值不太具有代表性的, 做標籤編碼\n",
    "cols = ('FireplaceQu', 'BsmtQual', 'BsmtCond', 'GarageQual', 'GarageCond', \n",
    "        'ExterQual', 'ExterCond','HeatingQC', 'PoolQC', 'KitchenQual', 'BsmtFinType1', \n",
    "        'BsmtFinType2', 'Functional', 'Fence', 'BsmtExposure', 'GarageFinish', 'LandSlope',\n",
    "        'LotShape', 'PavedDrive', 'Street', 'Alley', 'CentralAir', 'MSSubClass', 'OverallCond', \n",
    "        'YrSold', 'MoSold')\n",
    "for c in cols:\n",
    "    lbl = LabelEncoder() \n",
    "    lbl.fit(list(df[c].values)) \n",
    "    df[c] = lbl.transform(list(df[c].values))\n",
    "    \n",
    "# 由地下室面積 + 1樓面積 + 2樓面積, 計算總坪數特徵   \n",
    "df['TotalSF'] = df['TotalBsmtSF'] + df['1stFlrSF'] + df['2ndFlrSF']    \n",
    "    \n",
    "# 看看目前特徵工程的結果\n",
    "print('Shape df: {}'.format(df.shape))\n",
    "df.head()\n"
   ]
  },
  {
   "cell_type": "code",
   "execution_count": null,
   "metadata": {},
   "outputs": [],
   "source": [
    "# 把剩下少數重要的類別型欄位, 做獨熱編碼 (已變成數字的欄位, 會自動跳過)\n",
    "df = pd.get_dummies(df)\n",
    "print(df.shape)\n"
   ]
  },
  {
   "cell_type": "code",
   "execution_count": null,
   "metadata": {},
   "outputs": [],
   "source": [
    "# 將前述轉換完畢資料 df , 重新切成 train_X, test_X\n",
    "train_num = train_Y.shape[0]\n",
    "train_X = df[:train_num]\n",
    "test_X = df[train_num:]\n",
    "\n",
    "# 使用三種模型 : 線性迴歸 / 梯度提升機 / 隨機森林, 參數使用 Random Search 尋找\n",
    "from sklearn.linear_model import LinearRegression\n",
    "from sklearn.ensemble import GradientBoostingRegressor, RandomForestRegressor\n",
    "linear = LinearRegression(normalize=False, fit_intercept=True, copy_X=True)\n",
    "gdbt = GradientBoostingRegressor(tol=0.1, subsample=0.37, n_estimators=200, max_features=20, \n",
    "                                 max_depth=6, learning_rate=0.03)\n",
    "rf = RandomForestRegressor(n_estimators=300, min_samples_split=9, min_samples_leaf=10, \n",
    "                           max_features='sqrt', max_depth=8, bootstrap=False)"
   ]
  },
  {
   "cell_type": "code",
   "execution_count": null,
   "metadata": {},
   "outputs": [],
   "source": [
    "# 線性迴歸預測檔 (結果有部分隨機, 請以 Kaggle 計算的得分為準, 以下模型同理)\n",
    "linear.fit(train_X, train_Y)\n",
    "linear_pred = linear.predict(test_X)\n",
    "sub = pd.DataFrame({'Id': ids, 'SalePrice': np.expm1(linear_pred)})\n",
    "sub.to_csv('house_linear.csv', index=False)"
   ]
  },
  {
   "cell_type": "code",
   "execution_count": null,
   "metadata": {},
   "outputs": [],
   "source": [
    "# 梯度提升機預測檔 \n",
    "gdbt.fit(train_X, train_Y)\n",
    "gdbt_pred = gdbt.predict(test_X)\n",
    "sub = pd.DataFrame({'Id': ids, 'SalePrice': np.expm1(gdbt_pred)})\n",
    "sub.to_csv('house_gdbt.csv', index=False)\n"
   ]
  },
  {
   "cell_type": "code",
   "execution_count": null,
   "metadata": {},
   "outputs": [],
   "source": [
    "# 隨機森林預測檔\n",
    "rf.fit(train_X, train_Y)\n",
    "rf_pred = rf.predict(test_X)\n",
    "sub = pd.DataFrame({'Id': ids, 'SalePrice': np.expm1(rf_pred)})\n",
    "sub.to_csv('house_rf.csv', index=False)"
   ]
  },
  {
   "cell_type": "code",
   "execution_count": null,
   "metadata": {},
   "outputs": [],
   "source": [
    "# 混合泛化預測檔 (依 Kaggle 傳回分數調整比重, 越準確者比重越高, 依資料性質有所不同)\n",
    "blending_pred = linear_pred*0.30 + gdbt_pred*0.67 + rf_pred*0.03\n",
    "sub = pd.DataFrame({'Id': ids, 'SalePrice': np.expm1(blending_pred)})\n",
    "sub.to_csv('house_blending.csv', index=False)"
   ]
  }
 ],
 "metadata": {
  "kernelspec": {
   "display_name": "Python 3",
   "language": "python",
   "name": "python3"
  },
  "language_info": {
   "codemirror_mode": {
    "name": "ipython",
    "version": 3
   },
   "file_extension": ".py",
   "mimetype": "text/x-python",
   "name": "python",
   "nbconvert_exporter": "python",
   "pygments_lexer": "ipython3",
   "version": "3.6.7"
  }
 },
 "nbformat": 4,
 "nbformat_minor": 2
}
